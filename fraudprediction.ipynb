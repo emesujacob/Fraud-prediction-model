{
 "cells": [
  {
   "cell_type": "code",
   "execution_count": 1,
   "id": "bd878a6b-1342-44ea-83e1-17a436387372",
   "metadata": {},
   "outputs": [],
   "source": [
    "import pandas as pd\n"
   ]
  },
  {
   "cell_type": "code",
   "execution_count": 2,
   "id": "3398a5b7-57f0-42f8-b33c-987132497279",
   "metadata": {},
   "outputs": [
    {
     "data": {
      "text/plain": [
       "'2.2.1'"
      ]
     },
     "execution_count": 2,
     "metadata": {},
     "output_type": "execute_result"
    }
   ],
   "source": [
    "pd.__version__"
   ]
  },
  {
   "cell_type": "code",
   "execution_count": 3,
   "id": "f41bdaac-cc60-49aa-adc5-1c2199844333",
   "metadata": {},
   "outputs": [],
   "source": [
    "df = pd.read_csv('C:/Users/User/fraudtest.csv')"
   ]
  },
  {
   "cell_type": "code",
   "execution_count": 4,
   "id": "7f317d96-5b6e-4bcf-a5f3-5c41be38363e",
   "metadata": {},
   "outputs": [
    {
     "name": "stdout",
     "output_type": "stream",
     "text": [
      "   Unnamed: 0 trans_date_trans_time        cc_num  \\\n",
      "0           0      21/06/2020 12:14  2.290000e+15   \n",
      "1           1      21/06/2020 12:14  3.570000e+15   \n",
      "2           2      21/06/2020 12:14  3.600000e+15   \n",
      "3           3      21/06/2020 12:15  3.590000e+15   \n",
      "4           4      21/06/2020 12:15  3.530000e+15   \n",
      "\n",
      "                               merchant        category    amt   first  \\\n",
      "0                 fraud_Kirlin and Sons   personal_care   2.86    Jeff   \n",
      "1                  fraud_Sporer-Keebler   personal_care  29.84  Joanne   \n",
      "2  fraud_Swaniawski, Nitzsche and Welch  health_fitness  41.28  Ashley   \n",
      "3                     fraud_Haley Group        misc_pos  60.05   Brian   \n",
      "4                 fraud_Johnston-Casper          travel   3.19  Nathan   \n",
      "\n",
      "       last gender                       street  ...      lat      long  \\\n",
      "0   Elliott      M            351 Darlene Green  ...  33.9659  -80.9355   \n",
      "1  Williams      F             3638 Marsh Union  ...  40.3207 -110.4360   \n",
      "2     Lopez      F         9333 Valentine Point  ...  40.6729  -73.5365   \n",
      "3  Williams      M  32941 Krystal Mill Apt. 552  ...  28.5697  -80.8191   \n",
      "4    Massey      M     5783 Evan Roads Apt. 465  ...  44.2529  -85.0170   \n",
      "\n",
      "   city_pop                     job         dob  \\\n",
      "0    333497     Mechanical engineer  19/03/1968   \n",
      "1       302  Sales professional, IT  17/01/1990   \n",
      "2     34496       Librarian, public  21/10/1970   \n",
      "3     54767            Set designer  25/07/1987   \n",
      "4      1126      Furniture designer  06/07/1955   \n",
      "\n",
      "                          trans_num   unix_time  merch_lat  merch_long  \\\n",
      "0  2da90c7d74bd46a0caf3777415b3ebd3  1371816865  33.986391  -81.200714   \n",
      "1  324cc204407e99f51b0d6ca0055005e7  1371816873  39.450498 -109.960431   \n",
      "2  c81755dbbbea9d5c77f094348a7579be  1371816893  40.495810  -74.196111   \n",
      "3  2159175b9efe66dc301f149d3d5abf8c  1371816915  28.812398  -80.883061   \n",
      "4  57ff021bd3f328f8738bb535c302a31b  1371816917  44.959148  -85.884734   \n",
      "\n",
      "   is_fraud  \n",
      "0         0  \n",
      "1         0  \n",
      "2         0  \n",
      "3         0  \n",
      "4         0  \n",
      "\n",
      "[5 rows x 23 columns]\n"
     ]
    }
   ],
   "source": [
    "print(df.head())"
   ]
  },
  {
   "cell_type": "code",
   "execution_count": 5,
   "id": "d41cb9cb-8821-47d0-a220-3827f4ecfff2",
   "metadata": {},
   "outputs": [
    {
     "name": "stdout",
     "output_type": "stream",
     "text": [
      "<class 'pandas.core.frame.DataFrame'>\n",
      "RangeIndex: 555719 entries, 0 to 555718\n",
      "Data columns (total 23 columns):\n",
      " #   Column                 Non-Null Count   Dtype  \n",
      "---  ------                 --------------   -----  \n",
      " 0   Unnamed: 0             555719 non-null  int64  \n",
      " 1   trans_date_trans_time  555719 non-null  object \n",
      " 2   cc_num                 555719 non-null  float64\n",
      " 3   merchant               555719 non-null  object \n",
      " 4   category               555719 non-null  object \n",
      " 5   amt                    555719 non-null  float64\n",
      " 6   first                  555719 non-null  object \n",
      " 7   last                   555719 non-null  object \n",
      " 8   gender                 555719 non-null  object \n",
      " 9   street                 555719 non-null  object \n",
      " 10  city                   555719 non-null  object \n",
      " 11  state                  555719 non-null  object \n",
      " 12  zip                    555719 non-null  int64  \n",
      " 13  lat                    555719 non-null  float64\n",
      " 14  long                   555719 non-null  float64\n",
      " 15  city_pop               555719 non-null  int64  \n",
      " 16  job                    555719 non-null  object \n",
      " 17  dob                    555719 non-null  object \n",
      " 18  trans_num              555719 non-null  object \n",
      " 19  unix_time              555719 non-null  int64  \n",
      " 20  merch_lat              555719 non-null  float64\n",
      " 21  merch_long             555719 non-null  float64\n",
      " 22  is_fraud               555719 non-null  int64  \n",
      "dtypes: float64(6), int64(5), object(12)\n",
      "memory usage: 97.5+ MB\n"
     ]
    }
   ],
   "source": [
    "df.info()"
   ]
  },
  {
   "cell_type": "code",
   "execution_count": 6,
   "id": "49c89404-a3fd-4ea7-90e1-7f9321318f62",
   "metadata": {},
   "outputs": [
    {
     "data": {
      "text/html": [
       "<div>\n",
       "<style scoped>\n",
       "    .dataframe tbody tr th:only-of-type {\n",
       "        vertical-align: middle;\n",
       "    }\n",
       "\n",
       "    .dataframe tbody tr th {\n",
       "        vertical-align: top;\n",
       "    }\n",
       "\n",
       "    .dataframe thead th {\n",
       "        text-align: right;\n",
       "    }\n",
       "</style>\n",
       "<table border=\"1\" class=\"dataframe\">\n",
       "  <thead>\n",
       "    <tr style=\"text-align: right;\">\n",
       "      <th></th>\n",
       "      <th>Unnamed: 0</th>\n",
       "      <th>cc_num</th>\n",
       "      <th>amt</th>\n",
       "      <th>zip</th>\n",
       "      <th>lat</th>\n",
       "      <th>long</th>\n",
       "      <th>city_pop</th>\n",
       "      <th>unix_time</th>\n",
       "      <th>merch_lat</th>\n",
       "      <th>merch_long</th>\n",
       "      <th>is_fraud</th>\n",
       "    </tr>\n",
       "  </thead>\n",
       "  <tbody>\n",
       "    <tr>\n",
       "      <th>count</th>\n",
       "      <td>555719.000000</td>\n",
       "      <td>5.557190e+05</td>\n",
       "      <td>555719.000000</td>\n",
       "      <td>555719.000000</td>\n",
       "      <td>555719.000000</td>\n",
       "      <td>555719.000000</td>\n",
       "      <td>5.557190e+05</td>\n",
       "      <td>5.557190e+05</td>\n",
       "      <td>555719.000000</td>\n",
       "      <td>555719.000000</td>\n",
       "      <td>555719.000000</td>\n",
       "    </tr>\n",
       "    <tr>\n",
       "      <th>mean</th>\n",
       "      <td>277859.000000</td>\n",
       "      <td>4.178627e+17</td>\n",
       "      <td>69.392810</td>\n",
       "      <td>48842.628015</td>\n",
       "      <td>38.543253</td>\n",
       "      <td>-90.231325</td>\n",
       "      <td>8.822189e+04</td>\n",
       "      <td>1.380679e+09</td>\n",
       "      <td>38.542798</td>\n",
       "      <td>-90.231380</td>\n",
       "      <td>0.003860</td>\n",
       "    </tr>\n",
       "    <tr>\n",
       "      <th>std</th>\n",
       "      <td>160422.401459</td>\n",
       "      <td>1.309920e+18</td>\n",
       "      <td>156.745941</td>\n",
       "      <td>26855.283328</td>\n",
       "      <td>5.061336</td>\n",
       "      <td>13.721780</td>\n",
       "      <td>3.003909e+05</td>\n",
       "      <td>5.201104e+06</td>\n",
       "      <td>5.095829</td>\n",
       "      <td>13.733071</td>\n",
       "      <td>0.062008</td>\n",
       "    </tr>\n",
       "    <tr>\n",
       "      <th>min</th>\n",
       "      <td>0.000000</td>\n",
       "      <td>6.041621e+10</td>\n",
       "      <td>1.000000</td>\n",
       "      <td>1257.000000</td>\n",
       "      <td>20.027100</td>\n",
       "      <td>-165.672300</td>\n",
       "      <td>2.300000e+01</td>\n",
       "      <td>1.371817e+09</td>\n",
       "      <td>19.027422</td>\n",
       "      <td>-166.671575</td>\n",
       "      <td>0.000000</td>\n",
       "    </tr>\n",
       "    <tr>\n",
       "      <th>25%</th>\n",
       "      <td>138929.500000</td>\n",
       "      <td>1.800000e+14</td>\n",
       "      <td>9.630000</td>\n",
       "      <td>26292.000000</td>\n",
       "      <td>34.668900</td>\n",
       "      <td>-96.798000</td>\n",
       "      <td>7.410000e+02</td>\n",
       "      <td>1.376029e+09</td>\n",
       "      <td>34.755302</td>\n",
       "      <td>-96.905129</td>\n",
       "      <td>0.000000</td>\n",
       "    </tr>\n",
       "    <tr>\n",
       "      <th>50%</th>\n",
       "      <td>277859.000000</td>\n",
       "      <td>3.520000e+15</td>\n",
       "      <td>47.290000</td>\n",
       "      <td>48174.000000</td>\n",
       "      <td>39.371600</td>\n",
       "      <td>-87.476900</td>\n",
       "      <td>2.408000e+03</td>\n",
       "      <td>1.380762e+09</td>\n",
       "      <td>39.376593</td>\n",
       "      <td>-87.445204</td>\n",
       "      <td>0.000000</td>\n",
       "    </tr>\n",
       "    <tr>\n",
       "      <th>75%</th>\n",
       "      <td>416788.500000</td>\n",
       "      <td>4.640000e+15</td>\n",
       "      <td>83.010000</td>\n",
       "      <td>72011.000000</td>\n",
       "      <td>41.894800</td>\n",
       "      <td>-80.175200</td>\n",
       "      <td>1.968500e+04</td>\n",
       "      <td>1.385867e+09</td>\n",
       "      <td>41.954163</td>\n",
       "      <td>-80.264637</td>\n",
       "      <td>0.000000</td>\n",
       "    </tr>\n",
       "    <tr>\n",
       "      <th>max</th>\n",
       "      <td>555718.000000</td>\n",
       "      <td>4.990000e+18</td>\n",
       "      <td>22768.110000</td>\n",
       "      <td>99921.000000</td>\n",
       "      <td>65.689900</td>\n",
       "      <td>-67.950300</td>\n",
       "      <td>2.906700e+06</td>\n",
       "      <td>1.388534e+09</td>\n",
       "      <td>66.679297</td>\n",
       "      <td>-66.952026</td>\n",
       "      <td>1.000000</td>\n",
       "    </tr>\n",
       "  </tbody>\n",
       "</table>\n",
       "</div>"
      ],
      "text/plain": [
       "          Unnamed: 0        cc_num            amt            zip  \\\n",
       "count  555719.000000  5.557190e+05  555719.000000  555719.000000   \n",
       "mean   277859.000000  4.178627e+17      69.392810   48842.628015   \n",
       "std    160422.401459  1.309920e+18     156.745941   26855.283328   \n",
       "min         0.000000  6.041621e+10       1.000000    1257.000000   \n",
       "25%    138929.500000  1.800000e+14       9.630000   26292.000000   \n",
       "50%    277859.000000  3.520000e+15      47.290000   48174.000000   \n",
       "75%    416788.500000  4.640000e+15      83.010000   72011.000000   \n",
       "max    555718.000000  4.990000e+18   22768.110000   99921.000000   \n",
       "\n",
       "                 lat           long      city_pop     unix_time  \\\n",
       "count  555719.000000  555719.000000  5.557190e+05  5.557190e+05   \n",
       "mean       38.543253     -90.231325  8.822189e+04  1.380679e+09   \n",
       "std         5.061336      13.721780  3.003909e+05  5.201104e+06   \n",
       "min        20.027100    -165.672300  2.300000e+01  1.371817e+09   \n",
       "25%        34.668900     -96.798000  7.410000e+02  1.376029e+09   \n",
       "50%        39.371600     -87.476900  2.408000e+03  1.380762e+09   \n",
       "75%        41.894800     -80.175200  1.968500e+04  1.385867e+09   \n",
       "max        65.689900     -67.950300  2.906700e+06  1.388534e+09   \n",
       "\n",
       "           merch_lat     merch_long       is_fraud  \n",
       "count  555719.000000  555719.000000  555719.000000  \n",
       "mean       38.542798     -90.231380       0.003860  \n",
       "std         5.095829      13.733071       0.062008  \n",
       "min        19.027422    -166.671575       0.000000  \n",
       "25%        34.755302     -96.905129       0.000000  \n",
       "50%        39.376593     -87.445204       0.000000  \n",
       "75%        41.954163     -80.264637       0.000000  \n",
       "max        66.679297     -66.952026       1.000000  "
      ]
     },
     "execution_count": 6,
     "metadata": {},
     "output_type": "execute_result"
    }
   ],
   "source": [
    "df.describe()"
   ]
  },
  {
   "cell_type": "code",
   "execution_count": 7,
   "id": "7e1dce6e-57d0-443e-b398-8ae142d7ab15",
   "metadata": {},
   "outputs": [
    {
     "data": {
      "text/plain": [
       "Unnamed: 0               0\n",
       "trans_date_trans_time    0\n",
       "cc_num                   0\n",
       "merchant                 0\n",
       "category                 0\n",
       "amt                      0\n",
       "first                    0\n",
       "last                     0\n",
       "gender                   0\n",
       "street                   0\n",
       "city                     0\n",
       "state                    0\n",
       "zip                      0\n",
       "lat                      0\n",
       "long                     0\n",
       "city_pop                 0\n",
       "job                      0\n",
       "dob                      0\n",
       "trans_num                0\n",
       "unix_time                0\n",
       "merch_lat                0\n",
       "merch_long               0\n",
       "is_fraud                 0\n",
       "dtype: int64"
      ]
     },
     "execution_count": 7,
     "metadata": {},
     "output_type": "execute_result"
    }
   ],
   "source": [
    "df.isnull().sum()"
   ]
  },
  {
   "cell_type": "code",
   "execution_count": 9,
   "id": "48429449-0c8d-475c-ab00-35e5090353e2",
   "metadata": {},
   "outputs": [
    {
     "data": {
      "text/plain": [
       "is_fraud\n",
       "0    553574\n",
       "1      2145\n",
       "Name: count, dtype: int64"
      ]
     },
     "execution_count": 9,
     "metadata": {},
     "output_type": "execute_result"
    }
   ],
   "source": [
    "df['is_fraud'].value_counts()"
   ]
  },
  {
   "cell_type": "code",
   "execution_count": 10,
   "id": "33c3e113-8c3b-4c67-8c3f-0ddd9d3aa500",
   "metadata": {},
   "outputs": [
    {
     "name": "stderr",
     "output_type": "stream",
     "text": [
      "Matplotlib is building the font cache; this may take a moment.\n"
     ]
    }
   ],
   "source": [
    "import matplotlib.pyplot as plt"
   ]
  },
  {
   "cell_type": "code",
   "execution_count": null,
   "id": "54efcd81-fdc3-4775-97ed-4a51d521180e",
   "metadata": {},
   "outputs": [],
   "source": [
    "import seaborn as sns\n"
   ]
  },
  {
   "cell_type": "code",
   "execution_count": 1,
   "id": "76e4e375-ec7e-4cc1-889d-990db6ab4b17",
   "metadata": {},
   "outputs": [],
   "source": [
    "import seaborn as sns"
   ]
  },
  {
   "cell_type": "code",
   "execution_count": 5,
   "id": "c4de801a-b2e9-4b2c-b03e-ea23192f7178",
   "metadata": {},
   "outputs": [],
   "source": [
    "import pandas as pd"
   ]
  },
  {
   "cell_type": "code",
   "execution_count": 6,
   "id": "d535aab9-b672-417c-bdf2-1e72592841db",
   "metadata": {},
   "outputs": [],
   "source": [
    "df = pd.read_csv('C:/Users/User/fraudtest.csv')"
   ]
  },
  {
   "cell_type": "code",
   "execution_count": 128,
   "id": "dec0fa2b-c225-4422-8b9d-bd7b6e6896e5",
   "metadata": {},
   "outputs": [
    {
     "name": "stderr",
     "output_type": "stream",
     "text": [
      "C:\\Users\\User\\anaconda3\\envs\\jacob\\lib\\site-packages\\seaborn\\_oldcore.py:1119: FutureWarning: use_inf_as_na option is deprecated and will be removed in a future version. Convert inf values to NaN before operating instead.\n",
      "  with pd.option_context('mode.use_inf_as_na', True):\n"
     ]
    },
    {
     "data": {
      "text/plain": [
       "<Axes: xlabel='amt', ylabel='Count'>"
      ]
     },
     "execution_count": 128,
     "metadata": {},
     "output_type": "execute_result"
    },
    {
     "data": {
      "image/png": "[encoded data removed]",
      "text/plain": [
       "<Figure size 640x480 with 1 Axes>"
      ]
     },
     "metadata": {},
     "output_type": "display_data"
    }
   ],
   "source": [
    "sns.histplot(df['amt'])"
   ]
  },
  {
   "cell_type": "code",
   "execution_count": 8,
   "id": "7490d5af-c2ae-49cb-93c4-2fc9166ce30a",
   "metadata": {},
   "outputs": [],
   "source": [
    "import pandas as pd\n",
    "import seaborn as sns\n",
    "import matplotlib.pyplot as plt\n"
   ]
  },
  {
   "cell_type": "code",
   "execution_count": 9,
   "id": "a344dad2-1980-44d6-bfdc-5ad6bf86c72c",
   "metadata": {},
   "outputs": [],
   "source": [
    "df = pd.read_csv('C:/Users/User/fraudtest.csv')"
   ]
  },
  {
   "cell_type": "code",
   "execution_count": 11,
   "id": "93f5b16b-4a63-42ac-99f8-7099374dbb73",
   "metadata": {},
   "outputs": [],
   "source": [
    "import numpy as np"
   ]
  },
  {
   "cell_type": "code",
   "execution_count": 126,
   "id": "75bd20d3-b2f0-44e5-a096-9a8663d5b346",
   "metadata": {},
   "outputs": [
    {
     "name": "stdout",
     "output_type": "stream",
     "text": [
      "   amt    B\n",
      "0  1.0  5.0\n",
      "1  2.0  inf\n",
      "2  2.0  7.0\n",
      "3  4.0  8.0\n"
     ]
    }
   ],
   "source": [
    "\n",
    "# Sample DataFrame with infinite values\n",
    "data = {'A': [1, 2, np.inf, 4], 'B': [5, np.inf, 7, 8]}\n",
    "df = pd.DataFrame(data)\n",
    "\n",
    "# Rename the 'A' column to 'amt'\n",
    "df.rename(columns={'A': 'amt'}, inplace=True)\n",
    "\n",
    "# Convert infinite values to NaN in the 'amt' column\n",
    "df['amt'] = df['amt'].replace([np.inf, -np.inf], np.nan)\n",
    "# Sample DataFrame with NaN values\n",
    "data = {'amt': [1.0, np.nan, np.nan, 4.0], 'B': [5.0, np.inf, 7.0, 8.0]}\n",
    "df = pd.DataFrame(data)\n",
    "\n",
    "# Fill NaN values in 'amt' column with 3.0 and assign back to the column\n",
    "df['amt'] = df['amt'].fillna(2.0)\n",
    "\n",
    "# Print the DataFrame to check the result\n",
    "print(df)"
   ]
  },
  {
   "cell_type": "code",
   "execution_count": 125,
   "id": "4a72c51c-1055-4272-82f9-4e8bab67d816",
   "metadata": {},
   "outputs": [
    {
     "name": "stderr",
     "output_type": "stream",
     "text": [
      "C:\\Users\\User\\anaconda3\\envs\\jacob\\lib\\site-packages\\seaborn\\_oldcore.py:1119: FutureWarning: use_inf_as_na option is deprecated and will be removed in a future version. Convert inf values to NaN before operating instead.\n",
      "  with pd.option_context('mode.use_inf_as_na', True):\n"
     ]
    },
    {
     "data": {
      "text/plain": [
       "<Axes: xlabel='amt', ylabel='Count'>"
      ]
     },
     "execution_count": 125,
     "metadata": {},
     "output_type": "execute_result"
    },
    {
     "data": {
      "image/png": "[encoded data removed]",
      "text/plain": [
       "<Figure size 640x480 with 1 Axes>"
      ]
     },
     "metadata": {},
     "output_type": "display_data"
    }
   ],
   "source": [
    "sns.histplot(df['amt'])"
   ]
  },
  {
   "cell_type": "code",
   "execution_count": 14,
   "id": "42e1e2cc-6052-480b-8b69-cc69cc5bbf67",
   "metadata": {},
   "outputs": [],
   "source": [
    "import pandas as pd\n",
    "import numpy as np\n",
    "import seaborn as sns\n",
    "import matplotlib.pyplot as plt"
   ]
  },
  {
   "cell_type": "code",
   "execution_count": 15,
   "id": "23d71c02-effc-440e-9986-d2a6348d738e",
   "metadata": {},
   "outputs": [],
   "source": [
    "df = pd.read_csv('C:/Users/User/fraudtest.csv')"
   ]
  },
  {
   "cell_type": "code",
   "execution_count": 16,
   "id": "2f67c2a3-52d2-4895-bcf8-62c756c43130",
   "metadata": {},
   "outputs": [],
   "source": [
    "df['amt'] = df['amt'].replace([np.inf, -np.inf], np.nan)"
   ]
  },
  {
   "cell_type": "code",
   "execution_count": 127,
   "id": "1b15b06a-abff-4e96-a166-963ca9b56138",
   "metadata": {},
   "outputs": [
    {
     "name": "stderr",
     "output_type": "stream",
     "text": [
      "C:\\Users\\User\\anaconda3\\envs\\jacob\\lib\\site-packages\\seaborn\\_oldcore.py:1119: FutureWarning: use_inf_as_na option is deprecated and will be removed in a future version. Convert inf values to NaN before operating instead.\n",
      "  with pd.option_context('mode.use_inf_as_na', True):\n"
     ]
    },
    {
     "data": {
      "image/png": "[encoded data removed]",
      "text/plain": [
       "<Figure size 640x480 with 1 Axes>"
      ]
     },
     "metadata": {},
     "output_type": "display_data"
    }
   ],
   "source": [
    "sns.histplot(df['amt'].dropna(), kde=True)  # Drop NaN values before plotting\n",
    "plt.xlabel('Transaction Amount')\n",
    "plt.ylabel('Frequency')\n",
    "plt.title('Distribution of Transaction Amount')\n",
    "plt.show()"
   ]
  },
  {
   "cell_type": "code",
   "execution_count": 19,
   "id": "104d3467-d0b3-4b2d-b48a-24c4a6c506b8",
   "metadata": {},
   "outputs": [],
   "source": [
    "import pandas as pd\n",
    "import seaborn as sns\n",
    "import matplotlib.pyplot as plt\n"
   ]
  },
  {
   "cell_type": "code",
   "execution_count": 131,
   "id": "88301499-7585-469c-b103-90e0deb12086",
   "metadata": {},
   "outputs": [],
   "source": [
    "df = pd.read_csv('C:/Users/User/fraudtest.csv')"
   ]
  },
  {
   "cell_type": "code",
   "execution_count": 132,
   "id": "5bf772f1-3d5b-43a7-b3a3-2425efb30707",
   "metadata": {},
   "outputs": [
    {
     "name": "stdout",
     "output_type": "stream",
     "text": [
      "Index(['Unnamed: 0', 'trans_date_trans_time', 'cc_num', 'merchant', 'category',\n",
      "       'amt', 'first', 'last', 'gender', 'street', 'city', 'state', 'zip',\n",
      "       'lat', 'long', 'city_pop', 'job', 'dob', 'trans_num', 'unix_time',\n",
      "       'merch_lat', 'merch_long', 'is_fraud'],\n",
      "      dtype='object')\n"
     ]
    }
   ],
   "source": [
    "print(df.columns)"
   ]
  },
  {
   "cell_type": "code",
   "execution_count": 133,
   "id": "88f01050-795c-4679-a8b5-d052c8c7bc87",
   "metadata": {},
   "outputs": [
    {
     "name": "stderr",
     "output_type": "stream",
     "text": [
      "C:\\Users\\User\\anaconda3\\envs\\jacob\\lib\\site-packages\\seaborn\\_oldcore.py:1119: FutureWarning: use_inf_as_na option is deprecated and will be removed in a future version. Convert inf values to NaN before operating instead.\n",
      "  with pd.option_context('mode.use_inf_as_na', True):\n",
      "C:\\Users\\User\\anaconda3\\envs\\jacob\\lib\\site-packages\\seaborn\\_oldcore.py:1075: FutureWarning: When grouping with a length-1 list-like, you will need to pass a length-1 tuple to get_group in a future version of pandas. Pass `(name,)` instead of `name` to silence this warning.\n",
      "  data_subset = grouped_data.get_group(pd_key)\n",
      "C:\\Users\\User\\anaconda3\\envs\\jacob\\lib\\site-packages\\seaborn\\_oldcore.py:1119: FutureWarning: use_inf_as_na option is deprecated and will be removed in a future version. Convert inf values to NaN before operating instead.\n",
      "  with pd.option_context('mode.use_inf_as_na', True):\n",
      "C:\\Users\\User\\anaconda3\\envs\\jacob\\lib\\site-packages\\seaborn\\_oldcore.py:1075: FutureWarning: When grouping with a length-1 list-like, you will need to pass a length-1 tuple to get_group in a future version of pandas. Pass `(name,)` instead of `name` to silence this warning.\n",
      "  data_subset = grouped_data.get_group(pd_key)\n",
      "C:\\Users\\User\\anaconda3\\envs\\jacob\\lib\\site-packages\\seaborn\\_oldcore.py:1075: FutureWarning: When grouping with a length-1 list-like, you will need to pass a length-1 tuple to get_group in a future version of pandas. Pass `(name,)` instead of `name` to silence this warning.\n",
      "  data_subset = grouped_data.get_group(pd_key)\n"
     ]
    },
    {
     "data": {
      "image/png": "[encoded data removed]",
      "text/plain": [
       "<Figure size 566.111x500 with 6 Axes>"
      ]
     },
     "metadata": {},
     "output_type": "display_data"
    }
   ],
   "source": [
    "if 'is_fraud' in df.columns:\n",
    "    sns.pairplot(df[['amt', 'city_pop', 'is_fraud']], hue='is_fraud')\n",
    "    plt.show()\n",
    "else:\n",
    "    print(\"Column 'is_fraud' not found in the DataFrame.\")"
   ]
  },
  {
   "cell_type": "code",
   "execution_count": 1,
   "id": "560997e7-72af-4960-be30-1405afaeb85a",
   "metadata": {},
   "outputs": [],
   "source": [
    "import pandas as pd\n",
    "import seaborn as sns\n",
    "import matplotlib.pyplot as plt\n"
   ]
  },
  {
   "cell_type": "code",
   "execution_count": 2,
   "id": "8e215f8a-d77e-4041-968b-14dc5d8293fc",
   "metadata": {},
   "outputs": [],
   "source": [
    "df = pd.read_csv('C:/Users/User/fraudtest.csv')"
   ]
  },
  {
   "cell_type": "code",
   "execution_count": 5,
   "id": "91d382d1-6fed-4d77-bb4b-88ef0ffa0ded",
   "metadata": {},
   "outputs": [
    {
     "name": "stdout",
     "output_type": "stream",
     "text": [
      "Index(['Unnamed: 0', 'trans_date_trans_time', 'cc_num', 'merchant', 'category',\n",
      "       'amt', 'first', 'last', 'gender', 'street', 'city', 'state', 'zip',\n",
      "       'lat', 'long', 'city_pop', 'job', 'dob', 'trans_num', 'unix_time',\n",
      "       'merch_lat', 'merch_long', 'is_fraud'],\n",
      "      dtype='object')\n"
     ]
    }
   ],
   "source": [
    "print(df.columns)\n"
   ]
  },
  {
   "cell_type": "code",
   "execution_count": 6,
   "id": "1a3f4b52-1bcf-404f-b590-075291828e5f",
   "metadata": {},
   "outputs": [],
   "source": [
    "df_encoded = pd.get_dummies(df, columns=['category', 'gender', 'last'], drop_first=True)\n"
   ]
  },
  {
   "cell_type": "code",
   "execution_count": 7,
   "id": "e7d4f047-bae5-4a13-a3fe-26d69924b283",
   "metadata": {},
   "outputs": [],
   "source": [
    "from sklearn.preprocessing import LabelEncoder"
   ]
  },
  {
   "cell_type": "code",
   "execution_count": 8,
   "id": "7dc83823-4905-470e-8261-277a5623fc15",
   "metadata": {},
   "outputs": [],
   "source": [
    "label_encoder = LabelEncoder()\n",
    "df['category_encoded'] = label_encoder.fit_transform(df['category'])\n"
   ]
  },
  {
   "cell_type": "code",
   "execution_count": 9,
   "id": "3d9e31eb-64c2-4bc4-b4f3-466d156d5366",
   "metadata": {},
   "outputs": [],
   "source": [
    "from sklearn.model_selection import train_test_split"
   ]
  },
  {
   "cell_type": "code",
   "execution_count": 12,
   "id": "a9ae7b5e-6542-4dd5-abdc-0d1297b86995",
   "metadata": {},
   "outputs": [],
   "source": [
    " X = df.drop(columns=['is_fraud'])"
   ]
  },
  {
   "cell_type": "code",
   "execution_count": 16,
   "id": "4ccc331d-eab9-49a4-b12d-5428c6049c8f",
   "metadata": {},
   "outputs": [],
   "source": [
    "y = df['is_fraud']"
   ]
  },
  {
   "cell_type": "code",
   "execution_count": 17,
   "id": "20de443f-616d-48c8-8a42-1c2c9109b003",
   "metadata": {},
   "outputs": [],
   "source": [
    "X_train, X_test, y_train, y_test = train_test_split(X, y, test_size=0.2, random_state=42)"
   ]
  },
  {
   "cell_type": "code",
   "execution_count": 18,
   "id": "c154b381-c2b7-4e56-9fba-2a6ebd664e63",
   "metadata": {},
   "outputs": [
    {
     "name": "stdout",
     "output_type": "stream",
     "text": [
      "X_train shape: (444575, 23)\n",
      "X_test shape: (111144, 23)\n",
      "y_train shape: (444575,)\n",
      "y_test shape: (111144,)\n"
     ]
    }
   ],
   "source": [
    "print('X_train shape:', X_train.shape)\n",
    "print('X_test shape:', X_test.shape)\n",
    "print('y_train shape:', y_train.shape)\n",
    "print('y_test shape:', y_test.shape)\n"
   ]
  },
  {
   "cell_type": "code",
   "execution_count": null,
   "id": "78c588d7-3fed-4072-b7e0-9adb08e6dc37",
   "metadata": {},
   "outputs": [],
   "source": [
    "df = pd.read_csv('C:/Users/User/fraudtest.csv')"
   ]
  },
  {
   "cell_type": "code",
   "execution_count": 40,
   "id": "cd09d8be-cdb6-428b-9440-e51eda95c20c",
   "metadata": {},
   "outputs": [],
   "source": [
    "import numpy as np\n",
    "dtype = object\n"
   ]
  },
  {
   "cell_type": "code",
   "execution_count": 21,
   "id": "ac09c07a-b63c-4c01-a474-56e367c91f67",
   "metadata": {},
   "outputs": [],
   "source": [
    "import tensorflow as tf"
   ]
  },
  {
   "cell_type": "code",
   "execution_count": 22,
   "id": "e437ff83-f8e6-4b54-8aa1-0d9ac8bf4e84",
   "metadata": {},
   "outputs": [],
   "source": [
    "from tensorflow import keras"
   ]
  },
  {
   "cell_type": "code",
   "execution_count": 24,
   "id": "760b8ab8-914d-49f0-b5b5-3d16abb32dc0",
   "metadata": {},
   "outputs": [],
   "source": [
    "from tensorflow.keras import layers"
   ]
  },
  {
   "cell_type": "code",
   "execution_count": 25,
   "id": "ac4a4785-afa0-45bd-b7a8-e0f708294ea6",
   "metadata": {},
   "outputs": [],
   "source": [
    "model = keras.Sequential()"
   ]
  },
  {
   "cell_type": "code",
   "execution_count": 26,
   "id": "3d61f300-6ceb-4e04-9aee-9785f9f83389",
   "metadata": {},
   "outputs": [],
   "source": [
    "model.add(layers.Dense(128, activation='relu', input_shape=(X_train.shape[1],)))"
   ]
  },
  {
   "cell_type": "code",
   "execution_count": 27,
   "id": "aee15982-83a5-4267-a068-73247a7f9325",
   "metadata": {},
   "outputs": [],
   "source": [
    "model.add(layers.Dropout(0.2))"
   ]
  },
  {
   "cell_type": "code",
   "execution_count": 28,
   "id": "c35beef8-dfeb-4530-9c89-dd3434f29f23",
   "metadata": {},
   "outputs": [],
   "source": [
    "model.add(layers.Dense(64, activation='relu'))"
   ]
  },
  {
   "cell_type": "code",
   "execution_count": 29,
   "id": "9a0e98bc-9019-44b0-a005-72154c32bafb",
   "metadata": {},
   "outputs": [],
   "source": [
    "model.add(layers.Dropout(0.2))"
   ]
  },
  {
   "cell_type": "code",
   "execution_count": 30,
   "id": "58717c53-8bbb-46b4-893a-6160d08f18a9",
   "metadata": {},
   "outputs": [],
   "source": [
    "model.add(layers.Dense(1, activation='sigmoid'))"
   ]
  },
  {
   "cell_type": "code",
   "execution_count": 31,
   "id": "ac23f354-1ce5-42fe-87cb-c85402631c1d",
   "metadata": {},
   "outputs": [],
   "source": [
    "model.compile(optimizer='adam', loss='binary_crossentropy', metrics=['accuracy'])"
   ]
  },
  {
   "cell_type": "code",
   "execution_count": 32,
   "id": "f31f5905-b507-4c08-abf1-03d89938137d",
   "metadata": {},
   "outputs": [
    {
     "name": "stdout",
     "output_type": "stream",
     "text": [
      "Model: \"sequential\"\n",
      "_________________________________________________________________\n",
      " Layer (type)                Output Shape              Param #   \n",
      "=================================================================\n",
      " dense (Dense)               (None, 128)               3072      \n",
      "                                                                 \n",
      " dropout (Dropout)           (None, 128)               0         \n",
      "                                                                 \n",
      " dense_1 (Dense)             (None, 64)                8256      \n",
      "                                                                 \n",
      " dropout_1 (Dropout)         (None, 64)                0         \n",
      "                                                                 \n",
      " dense_2 (Dense)             (None, 1)                 65        \n",
      "                                                                 \n",
      "=================================================================\n",
      "Total params: 11,393\n",
      "Trainable params: 11,393\n",
      "Non-trainable params: 0\n",
      "_________________________________________________________________\n"
     ]
    }
   ],
   "source": [
    "model.summary()"
   ]
  },
  {
   "cell_type": "code",
   "execution_count": 34,
   "id": "c3a1a9dc-97ce-4170-89bf-b2f18e7e1b6d",
   "metadata": {},
   "outputs": [
    {
     "name": "stdout",
     "output_type": "stream",
     "text": [
      "Unnamed: 0                 int64\n",
      "trans_date_trans_time     object\n",
      "cc_num                   float64\n",
      "merchant                  object\n",
      "category                  object\n",
      "amt                      float64\n",
      "first                     object\n",
      "last                      object\n",
      "gender                    object\n",
      "street                    object\n",
      "city                      object\n",
      "state                     object\n",
      "zip                        int64\n",
      "lat                      float64\n",
      "long                     float64\n",
      "city_pop                   int64\n",
      "job                       object\n",
      "dob                       object\n",
      "trans_num                 object\n",
      "unix_time                  int64\n",
      "merch_lat                float64\n",
      "merch_long               float64\n",
      "category_encoded           int32\n",
      "dtype: object\n",
      "int64\n"
     ]
    }
   ],
   "source": [
    "print(X_train.dtypes)  # Check data types of X_train\n",
    "print(y_train.dtypes)  # Check data type of y_train\n"
   ]
  },
  {
   "cell_type": "code",
   "execution_count": 36,
   "id": "a6b3aeb0-1b85-40b8-b53d-2d10955cecf1",
   "metadata": {},
   "outputs": [],
   "source": [
    "df['trans_date_trans_time'] = pd.to_datetime(df['trans_date_trans_time'], dayfirst=True)\n",
    "df['dob'] = pd.to_datetime(df['dob'], dayfirst=True)\n"
   ]
  },
  {
   "cell_type": "code",
   "execution_count": 37,
   "id": "adf67150-faa9-43ed-81c8-79f6666928bb",
   "metadata": {},
   "outputs": [],
   "source": [
    "from sklearn.preprocessing import LabelEncoder\n",
    "\n",
    "label_encoder = LabelEncoder()\n",
    "df['merchant_encoded'] = label_encoder.fit_transform(df['merchant'])\n",
    "# Repeat for other categorical columns\n"
   ]
  },
  {
   "cell_type": "code",
   "execution_count": 38,
   "id": "53a2a3f9-a055-4d32-adb3-4a06f36df509",
   "metadata": {},
   "outputs": [],
   "source": [
    "from sklearn.preprocessing import LabelEncoder\n",
    "\n",
    "label_encoder = LabelEncoder()\n",
    "df['category_encoded'] = label_encoder.fit_transform(df['category'])\n",
    "# Repeat for other categorical columns\n"
   ]
  },
  {
   "cell_type": "code",
   "execution_count": 39,
   "id": "a5c5d996-e048-4a6f-ba64-d71c2bf49502",
   "metadata": {},
   "outputs": [],
   "source": [
    "from sklearn.preprocessing import LabelEncoder\n",
    "\n",
    "label_encoder = LabelEncoder()\n",
    "df['first_encoded'] = label_encoder.fit_transform(df['first'])\n",
    "# Repeat for other categorical columns\n"
   ]
  },
  {
   "cell_type": "code",
   "execution_count": 40,
   "id": "c0773cb6-e887-4399-b612-967ac6b31f01",
   "metadata": {},
   "outputs": [],
   "source": [
    "from sklearn.preprocessing import LabelEncoder\n",
    "\n",
    "label_encoder = LabelEncoder()\n",
    "df['last_encoded'] = label_encoder.fit_transform(df['last'])\n",
    "# Repeat for other categorical columns\n"
   ]
  },
  {
   "cell_type": "code",
   "execution_count": 41,
   "id": "89981bb9-e993-40ab-bae9-0204f7bee420",
   "metadata": {},
   "outputs": [],
   "source": [
    "from sklearn.preprocessing import LabelEncoder\n",
    "\n",
    "label_encoder = LabelEncoder()\n",
    "df['gender_encoded'] = label_encoder.fit_transform(df['gender'])\n",
    "# Repeat for other categorical columns\n"
   ]
  },
  {
   "cell_type": "code",
   "execution_count": 42,
   "id": "8faec24b-04e3-48f0-8ca6-b1dc756a6468",
   "metadata": {},
   "outputs": [],
   "source": [
    "from sklearn.preprocessing import LabelEncoder\n",
    "\n",
    "label_encoder = LabelEncoder()\n",
    "df['street_encoded'] = label_encoder.fit_transform(df['street'])\n",
    "# Repeat for other categorical columns\n"
   ]
  },
  {
   "cell_type": "code",
   "execution_count": 43,
   "id": "f151ad6a-a6ae-4f0b-b42e-e0e459592a35",
   "metadata": {},
   "outputs": [],
   "source": [
    "from sklearn.preprocessing import LabelEncoder\n",
    "\n",
    "label_encoder = LabelEncoder()\n",
    "df['city_encoded'] = label_encoder.fit_transform(df['city'])\n",
    "# Repeat for other categorical columns\n"
   ]
  },
  {
   "cell_type": "code",
   "execution_count": 44,
   "id": "1df6a57c-4f8a-4101-b7b9-d5cfd13eedc3",
   "metadata": {},
   "outputs": [],
   "source": [
    "from sklearn.preprocessing import LabelEncoder\n",
    "\n",
    "label_encoder = LabelEncoder()\n",
    "df['state_encoded'] = label_encoder.fit_transform(df['state'])\n",
    "# Repeat for other categorical columns\n"
   ]
  },
  {
   "cell_type": "code",
   "execution_count": 45,
   "id": "2df29934-da3b-4efd-86c4-c69117751062",
   "metadata": {},
   "outputs": [],
   "source": [
    "from sklearn.preprocessing import LabelEncoder\n",
    "\n",
    "label_encoder = LabelEncoder()\n",
    "df['job_encoded'] = label_encoder.fit_transform(df['job'])\n",
    "# Repeat for other categorical columns\n"
   ]
  },
  {
   "cell_type": "code",
   "execution_count": 46,
   "id": "54494242-ff2d-44a9-90c2-6d28c64b9774",
   "metadata": {},
   "outputs": [],
   "source": [
    "from sklearn.preprocessing import LabelEncoder\n",
    "\n",
    "label_encoder = LabelEncoder()\n",
    "df['trans_num_encoded'] = label_encoder.fit_transform(df['trans_num'])\n",
    "# Repeat for other categorical columns"
   ]
  },
  {
   "cell_type": "code",
   "execution_count": 47,
   "id": "f83f2648-ca4d-47d0-a7e7-3bb0f8042ac7",
   "metadata": {},
   "outputs": [],
   "source": [
    "df.drop(columns=['trans_date_trans_time', 'first', 'last', 'street', 'city', 'state', 'zip', 'dob', 'trans_num'], inplace=True)\n"
   ]
  },
  {
   "cell_type": "code",
   "execution_count": 49,
   "id": "ff7a9f0f-5c7c-4d25-a081-963b3ffc6cdb",
   "metadata": {},
   "outputs": [],
   "source": [
    "X = df.drop(columns=['is_fraud']).values\n",
    "y = df['is_fraud'].values\n"
   ]
  },
  {
   "cell_type": "code",
   "execution_count": 51,
   "id": "a2a95f27-da2f-4d4a-beb4-118a41acf3bc",
   "metadata": {},
   "outputs": [
    {
     "data": {
      "text/plain": [
       "Unnamed: 0                 int64\n",
       "trans_date_trans_time     object\n",
       "cc_num                   float64\n",
       "merchant                  object\n",
       "category                  object\n",
       "amt                      float64\n",
       "first                     object\n",
       "last                      object\n",
       "gender                    object\n",
       "street                    object\n",
       "city                      object\n",
       "state                     object\n",
       "zip                        int64\n",
       "lat                      float64\n",
       "long                     float64\n",
       "city_pop                   int64\n",
       "job                       object\n",
       "dob                       object\n",
       "trans_num                 object\n",
       "unix_time                  int64\n",
       "merch_lat                float64\n",
       "merch_long               float64\n",
       "category_encoded           int32\n",
       "dtype: object"
      ]
     },
     "execution_count": 51,
     "metadata": {},
     "output_type": "execute_result"
    }
   ],
   "source": [
    "X_train.dtypes"
   ]
  },
  {
   "cell_type": "code",
   "execution_count": 52,
   "id": "87adb2dd-1b8e-470b-9857-7c41dcc377e6",
   "metadata": {},
   "outputs": [
    {
     "data": {
      "text/plain": [
       "dtype('int64')"
      ]
     },
     "execution_count": 52,
     "metadata": {},
     "output_type": "execute_result"
    }
   ],
   "source": [
    "y_train.dtypes"
   ]
  },
  {
   "cell_type": "code",
   "execution_count": 53,
   "id": "8a1f3d7a-f2df-4891-8ff8-dc3b7ac66558",
   "metadata": {},
   "outputs": [],
   "source": [
    "X_train_encoded = pd.get_dummies(X_train, columns=['category', 'gender'])"
   ]
  },
  {
   "cell_type": "code",
   "execution_count": 54,
   "id": "f071cee0-c64c-44fe-8dd4-55c5fa1d5bed",
   "metadata": {},
   "outputs": [],
   "source": [
    "X_train_encoded.drop(['Unnamed: 0', 'merchant', 'first', 'last', 'street', 'city', 'state', 'job', 'trans_num'], axis=1, inplace=True)"
   ]
  },
  {
   "cell_type": "code",
   "execution_count": 56,
   "id": "8ebe920b-578c-4f0d-8003-4d9e6c0e780e",
   "metadata": {},
   "outputs": [],
   "source": [
    "from sklearn.preprocessing import OneHotEncoder\n"
   ]
  },
  {
   "cell_type": "code",
   "execution_count": 57,
   "id": "067dbfb5-3f79-43ae-bf82-a737829ff666",
   "metadata": {},
   "outputs": [],
   "source": [
    "# Perform one-hot encoding for categorical variables in X_train\n",
    "encoder = OneHotEncoder()\n",
    "X_train_encoded = encoder.fit_transform(X_train)\n"
   ]
  },
  {
   "cell_type": "code",
   "execution_count": 58,
   "id": "8fb30b34-03c2-4ca3-810c-ac7f742e681f",
   "metadata": {},
   "outputs": [],
   "source": [
    "# Convert y_train to NumPy array if needed\n",
    "y_train = y_train.to_numpy()"
   ]
  },
  {
   "cell_type": "code",
   "execution_count": 60,
   "id": "48a0ce1f-42b3-4732-a50e-9ee8061cf128",
   "metadata": {},
   "outputs": [],
   "source": [
    "from sklearn.model_selection import train_test_split\n",
    "\n",
    "# Split the preprocessed data into training and validation sets\n",
    "X_train_split, X_val_split, y_train_split, y_val_split = train_test_split(\n",
    "    X_train_encoded, y_train, test_size=0.2, random_state=42\n",
    ")"
   ]
  },
  {
   "cell_type": "code",
   "execution_count": 62,
   "id": "afef3ef5-7455-4725-a69b-1ba3ab41e26e",
   "metadata": {},
   "outputs": [
    {
     "name": "stdout",
     "output_type": "stream",
     "text": [
      "X_train_split shape: (355660, 2458953)\n",
      "X_val_split shape: (88915, 2458953)\n"
     ]
    }
   ],
   "source": [
    "print(\"X_train_split shape:\", X_train_split.shape)\n",
    "print(\"X_val_split shape:\", X_val_split.shape)\n"
   ]
  },
  {
   "cell_type": "code",
   "execution_count": 63,
   "id": "a35e6944-12d1-4996-8887-a625609b931c",
   "metadata": {},
   "outputs": [],
   "source": [
    "from keras.models import Sequential\n",
    "from keras.layers import Dense"
   ]
  },
  {
   "cell_type": "code",
   "execution_count": 64,
   "id": "0c4bde8b-4ad6-4b15-8eae-dac74f29051e",
   "metadata": {},
   "outputs": [],
   "source": [
    "# Define and compile your model\n",
    "model = Sequential([\n",
    "    Dense(64, activation='relu', input_shape=(50,)),\n",
    "    Dense(1, activation='sigmoid')\n",
    "])\n",
    "model.compile(optimizer='adam', loss='binary_crossentropy', metrics=['accuracy'])"
   ]
  },
  {
   "cell_type": "code",
   "execution_count": 67,
   "id": "29771c98-c393-4060-800d-4a80245c44a1",
   "metadata": {},
   "outputs": [
    {
     "name": "stdout",
     "output_type": "stream",
     "text": [
      "X_train_split shape: (355660, 2458953)\n",
      "X_val_split shape: (88915, 2458953)\n"
     ]
    }
   ],
   "source": [
    "print(\"X_train_split shape:\", X_train_split.shape)\n",
    "print(\"X_val_split shape:\", X_val_split.shape)\n"
   ]
  },
  {
   "cell_type": "code",
   "execution_count": 69,
   "id": "e8d325c3-8950-4fcf-88b3-61f7325c6765",
   "metadata": {},
   "outputs": [],
   "source": [
    "from sklearn.feature_selection import SelectKBest"
   ]
  },
  {
   "cell_type": "code",
   "execution_count": 70,
   "id": "1b90e697-8698-4209-96b1-01248105f148",
   "metadata": {},
   "outputs": [],
   "source": [
    "from sklearn.feature_selection import f_classif"
   ]
  },
  {
   "cell_type": "code",
   "execution_count": 72,
   "id": "195b3c97-936d-4fe9-a46d-5698a90042fe",
   "metadata": {},
   "outputs": [],
   "source": [
    "from sklearn.feature_selection import VarianceThreshold\n",
    "from sklearn.feature_selection import SelectKBest\n",
    "from sklearn.feature_selection import f_classif"
   ]
  },
  {
   "cell_type": "code",
   "execution_count": 73,
   "id": "8edfd4af-9cba-4643-b41c-20acff8a5a78",
   "metadata": {},
   "outputs": [],
   "source": [
    "# Define a VarianceThreshold transformer to remove constant features\n",
    "var_threshold = VarianceThreshold(threshold=0)\n",
    "X_train_no_const = var_threshold.fit_transform(X_train_split)\n",
    "X_val_no_const = var_threshold.transform(X_val_split)\n"
   ]
  },
  {
   "cell_type": "code",
   "execution_count": 74,
   "id": "56f7f76d-8c5f-48a3-b1c0-49b54781b1c8",
   "metadata": {},
   "outputs": [],
   "source": [
    "# Perform feature selection using SelectKBest on the data without constant features\n",
    "selector = SelectKBest(score_func=f_classif, k=10)  # Select top 10 features\n",
    "X_train_selected = selector.fit_transform(X_train_no_const, y_train_split)\n",
    "X_val_selected = selector.transform(X_val_no_const)"
   ]
  },
  {
   "cell_type": "code",
   "execution_count": 75,
   "id": "f2b17737-0696-4d45-9bb6-f38615795031",
   "metadata": {},
   "outputs": [
    {
     "name": "stdout",
     "output_type": "stream",
     "text": [
      "X_train_selected shape: (355660, 10)\n",
      "X_val_selected shape: (88915, 10)\n"
     ]
    }
   ],
   "source": [
    "# Check the shapes of the selected features\n",
    "print(\"X_train_selected shape:\", X_train_selected.shape)\n",
    "print(\"X_val_selected shape:\", X_val_selected.shape)"
   ]
  },
  {
   "cell_type": "code",
   "execution_count": 76,
   "id": "2792edf3-55d2-46d1-a7a5-0b6dc0cb1162",
   "metadata": {},
   "outputs": [],
   "source": [
    "from keras.models import Sequential\n",
    "from keras.layers import Dense"
   ]
  },
  {
   "cell_type": "code",
   "execution_count": 77,
   "id": "62997827-0b6d-4803-b09d-215fc8b7b501",
   "metadata": {},
   "outputs": [],
   "source": [
    "# Define and compile your model\n",
    "model = Sequential([\n",
    "    Dense(64, activation='relu', input_shape=(10,)),  # Adjust input shape based on selected features\n",
    "    Dense(1, activation='sigmoid')\n",
    "])\n",
    "model.compile(optimizer='adam', loss='binary_crossentropy', metrics=['accuracy'])"
   ]
  },
  {
   "cell_type": "code",
   "execution_count": 78,
   "id": "e96a1b21-cfe6-4ef9-a327-2d6c277c0d7c",
   "metadata": {},
   "outputs": [
    {
     "name": "stdout",
     "output_type": "stream",
     "text": [
      "Epoch 1/10\n"
     ]
    },
    {
     "name": "stderr",
     "output_type": "stream",
     "text": [
      "C:\\Users\\User\\anaconda3\\envs\\jacob\\lib\\site-packages\\tensorflow\\python\\framework\\indexed_slices.py:444: UserWarning: Converting sparse IndexedSlices(IndexedSlices(indices=Tensor(\"gradient_tape/sequential_2/dense_5/embedding_lookup_sparse/Reshape_1:0\", shape=(None,), dtype=int32), values=Tensor(\"gradient_tape/sequential_2/dense_5/embedding_lookup_sparse/Reshape:0\", shape=(None, 64), dtype=float32), dense_shape=Tensor(\"gradient_tape/sequential_2/dense_5/embedding_lookup_sparse/Cast:0\", shape=(2,), dtype=int32))) to a dense Tensor of unknown shape. This may consume a large amount of memory.\n",
      "  warnings.warn(\n"
     ]
    },
    {
     "name": "stdout",
     "output_type": "stream",
     "text": [
      "11115/11115 [==============================] - 193s 4ms/step - loss: 0.1142 - accuracy: 0.9962 - val_loss: 0.0266 - val_accuracy: 0.9960\n",
      "Epoch 2/10\n",
      "11115/11115 [==============================] - 41s 4ms/step - loss: 0.0249 - accuracy: 0.9962 - val_loss: 0.0263 - val_accuracy: 0.9960\n",
      "Epoch 3/10\n",
      "11115/11115 [==============================] - 44s 4ms/step - loss: 0.0248 - accuracy: 0.9962 - val_loss: 0.0263 - val_accuracy: 0.9960\n",
      "Epoch 4/10\n",
      "11115/11115 [==============================] - 44s 4ms/step - loss: 0.0248 - accuracy: 0.9962 - val_loss: 0.0263 - val_accuracy: 0.9960\n",
      "Epoch 5/10\n",
      "11115/11115 [==============================] - 44s 4ms/step - loss: 0.0248 - accuracy: 0.9962 - val_loss: 0.0263 - val_accuracy: 0.9960\n",
      "Epoch 6/10\n",
      "11115/11115 [==============================] - 45s 4ms/step - loss: 0.0248 - accuracy: 0.9962 - val_loss: 0.0263 - val_accuracy: 0.9960\n",
      "Epoch 7/10\n",
      "11115/11115 [==============================] - 39s 3ms/step - loss: 0.0248 - accuracy: 0.9962 - val_loss: 0.0263 - val_accuracy: 0.9960\n",
      "Epoch 8/10\n",
      "11115/11115 [==============================] - 36s 3ms/step - loss: 0.0248 - accuracy: 0.9962 - val_loss: 0.0263 - val_accuracy: 0.9960\n",
      "Epoch 9/10\n",
      "11115/11115 [==============================] - 39s 3ms/step - loss: 0.0248 - accuracy: 0.9962 - val_loss: 0.0263 - val_accuracy: 0.9960\n",
      "Epoch 10/10\n",
      "11115/11115 [==============================] - 37s 3ms/step - loss: 0.0248 - accuracy: 0.9962 - val_loss: 0.0263 - val_accuracy: 0.9960\n"
     ]
    }
   ],
   "source": [
    "# Train the model with the selected/reduced features\n",
    "history = model.fit(X_train_selected, y_train_split, epochs=10, batch_size=32, validation_data=(X_val_selected, y_val_split))"
   ]
  },
  {
   "cell_type": "code",
   "execution_count": 84,
   "id": "9e6072a7-0192-4fcf-87db-014993cce482",
   "metadata": {},
   "outputs": [
    {
     "name": "stdout",
     "output_type": "stream",
     "text": [
      "<class 'pandas.core.frame.DataFrame'>\n",
      "<class 'pandas.core.series.Series'>\n"
     ]
    }
   ],
   "source": [
    "print(type(X_test))\n",
    "print(type(y_test))"
   ]
  },
  {
   "cell_type": "code",
   "execution_count": 85,
   "id": "9fc850fb-cf3b-418a-9e0f-bef575a8799e",
   "metadata": {},
   "outputs": [
    {
     "name": "stdout",
     "output_type": "stream",
     "text": [
      "X_train shape: (444575, 23)\n",
      "X_test shape: (111144, 23)\n",
      "y_train shape: (444575,)\n",
      "y_test shape: (111144,)\n"
     ]
    }
   ],
   "source": [
    "print('X_train shape:', X_train.shape)\n",
    "print('X_test shape:', X_test.shape)\n",
    "print('y_train shape:', y_train.shape)\n",
    "print('y_test shape:', y_test.shape)\n"
   ]
  },
  {
   "cell_type": "code",
   "execution_count": 87,
   "id": "761f95ea-f90c-429d-90a3-01ad0c803ae1",
   "metadata": {},
   "outputs": [
    {
     "data": {
      "text/plain": [
       "Unnamed: 0                 int64\n",
       "trans_date_trans_time     object\n",
       "cc_num                   float64\n",
       "merchant                  object\n",
       "category                  object\n",
       "amt                      float64\n",
       "first                     object\n",
       "last                      object\n",
       "gender                    object\n",
       "street                    object\n",
       "city                      object\n",
       "state                     object\n",
       "zip                        int64\n",
       "lat                      float64\n",
       "long                     float64\n",
       "city_pop                   int64\n",
       "job                       object\n",
       "dob                       object\n",
       "trans_num                 object\n",
       "unix_time                  int64\n",
       "merch_lat                float64\n",
       "merch_long               float64\n",
       "category_encoded           int32\n",
       "dtype: object"
      ]
     },
     "execution_count": 87,
     "metadata": {},
     "output_type": "execute_result"
    }
   ],
   "source": [
    "X_test.dtypes"
   ]
  },
  {
   "cell_type": "code",
   "execution_count": 88,
   "id": "34ce4023-a478-4f8d-885f-63d7939f0ced",
   "metadata": {},
   "outputs": [
    {
     "data": {
      "text/plain": [
       "dtype('int64')"
      ]
     },
     "execution_count": 88,
     "metadata": {},
     "output_type": "execute_result"
    }
   ],
   "source": [
    "y_test.dtypes"
   ]
  },
  {
   "cell_type": "code",
   "execution_count": 93,
   "id": "fa524a81-a35d-4811-a857-adc0400fc98e",
   "metadata": {},
   "outputs": [],
   "source": [
    "from sklearn.feature_extraction import FeatureHasher\n",
    "from sklearn.impute import SimpleImputer\n",
    "from sklearn.preprocessing import StandardScaler\n",
    "import numpy as np"
   ]
  },
  {
   "cell_type": "code",
   "execution_count": 101,
   "id": "ba07eedb-14be-4b0e-81e1-74d75a55006f",
   "metadata": {},
   "outputs": [],
   "source": [
    "from sklearn.feature_extraction import FeatureHasher\n",
    "\n",
    "# Assuming X_test[categorical_cols] is a DataFrame containing the categorical columns\n",
    "categorical_cols = ['merchant', 'category', 'first', 'last', 'gender', 'street', 'city', 'state', 'job', 'dob']\n",
    "\n",
    "# Initialize the FeatureHasher\n",
    "hasher = FeatureHasher(n_features=10, input_type='string')\n",
    "\n",
    "# Transform the categorical columns using FeatureHasher\n",
    "X_test_hashed = hasher.transform(X_test[categorical_cols].values.astype(str))\n"
   ]
  },
  {
   "cell_type": "code",
   "execution_count": 97,
   "id": "e1622d92-db31-4fa7-a5f0-aff63690ecc6",
   "metadata": {},
   "outputs": [],
   "source": [
    "# Impute missing values in numerical columns\n",
    "numerical_cols = ['cc_num', 'amt', 'zip', 'lat', 'long', 'city_pop', 'unix_time', 'merch_lat', 'merch_long', 'category_encoded']\n",
    "imputer = SimpleImputer(strategy='mean')\n",
    "X_test_imputed = imputer.fit_transform(X_test[numerical_cols])"
   ]
  },
  {
   "cell_type": "code",
   "execution_count": 98,
   "id": "5fe4d199-2ca1-4e75-8d7e-a10d20c73b5c",
   "metadata": {},
   "outputs": [],
   "source": [
    "# Standardize numerical features\n",
    "scaler = StandardScaler()\n",
    "X_test_scaled = scaler.fit_transform(X_test_imputed)\n"
   ]
  },
  {
   "cell_type": "code",
   "execution_count": 99,
   "id": "5e6d98c1-2418-418b-b7f4-539df203e427",
   "metadata": {},
   "outputs": [],
   "source": [
    "# Combine hashed categorical features and scaled numerical features\n",
    "X_test_processed = np.concatenate([X_test_hashed.toarray(), X_test_scaled], axis=1)"
   ]
  },
  {
   "cell_type": "code",
   "execution_count": 103,
   "id": "3f99ef72-907c-4ea1-b5c4-6d16cfb338e7",
   "metadata": {},
   "outputs": [],
   "source": [
    "import numpy as np\n",
    "\n",
    "# Convert SparseTensor to dense array\n",
    "X_test_dense = X_test_hashed.toarray()"
   ]
  },
  {
   "cell_type": "code",
   "execution_count": 104,
   "id": "2edf32c2-2147-4da2-8cd5-60f4121e2f6c",
   "metadata": {},
   "outputs": [
    {
     "name": "stdout",
     "output_type": "stream",
     "text": [
      "3474/3474 [==============================] - 14s 4ms/step - loss: 3.0275 - accuracy: 0.6301\n",
      "Test Loss: 3.0275392532348633\n",
      "Test Accuracy: 0.6301015019416809\n"
     ]
    }
   ],
   "source": [
    "# Evaluate the model on the test data\n",
    "test_loss, test_accuracy = model.evaluate(X_test_dense, y_test)\n",
    "\n",
    "print(f\"Test Loss: {test_loss}\")\n",
    "print(f\"Test Accuracy: {test_accuracy}\")"
   ]
  },
  {
   "cell_type": "code",
   "execution_count": 105,
   "id": "b1523cc1-2a27-4a75-891e-b2c45529ccd5",
   "metadata": {},
   "outputs": [],
   "source": [
    "from sklearn.metrics import precision_score, recall_score, f1_score, classification_report\n"
   ]
  },
  {
   "cell_type": "code",
   "execution_count": 107,
   "id": "198af9de-f057-4b49-b8f2-d29a91a3833f",
   "metadata": {},
   "outputs": [
    {
     "name": "stdout",
     "output_type": "stream",
     "text": [
      "3474/3474 [==============================] - 15s 3ms/step\n"
     ]
    }
   ],
   "source": [
    "y_pred = model.predict(X_test_dense)\n"
   ]
  },
  {
   "cell_type": "code",
   "execution_count": 110,
   "id": "d8fe1c54-a193-4579-a019-ac8c167777ab",
   "metadata": {},
   "outputs": [
    {
     "name": "stdout",
     "output_type": "stream",
     "text": [
      "3474/3474 [==============================] - 9s 3ms/step\n"
     ]
    }
   ],
   "source": [
    "# Make predictions on the test data\n",
    "y_pred_prob = model.predict(X_test_dense)\n",
    "y_pred = (y_pred_prob > 0.5).astype(int)  # Apply a threshold of 0.5 for binary classification"
   ]
  },
  {
   "cell_type": "code",
   "execution_count": 111,
   "id": "43a4466a-f966-4a6b-b992-6925a08e400d",
   "metadata": {},
   "outputs": [],
   "source": [
    "# Calculate additional evaluation metrics\n",
    "precision = precision_score(y_test, y_pred)\n",
    "recall = recall_score(y_test, y_pred)\n",
    "f1 = f1_score(y_test, y_pred)"
   ]
  },
  {
   "cell_type": "code",
   "execution_count": 112,
   "id": "fdd49e7e-11f5-4848-824a-088085f2088d",
   "metadata": {},
   "outputs": [
    {
     "name": "stdout",
     "output_type": "stream",
     "text": [
      "Precision: 0.00324770462981051\n",
      "Recall: 0.31220657276995306\n",
      "F1 Score: 0.006428536903668616\n"
     ]
    }
   ],
   "source": [
    "print(f\"Precision: {precision}\")\n",
    "print(f\"Recall: {recall}\")\n",
    "print(f\"F1 Score: {f1}\")\n"
   ]
  },
  {
   "cell_type": "code",
   "execution_count": 113,
   "id": "3f4edbf8-a3c8-4d1e-aabc-8ca6e99b7237",
   "metadata": {},
   "outputs": [
    {
     "name": "stdout",
     "output_type": "stream",
     "text": [
      "              precision    recall  f1-score   support\n",
      "\n",
      "           0       1.00      0.63      0.77    110718\n",
      "           1       0.00      0.31      0.01       426\n",
      "\n",
      "    accuracy                           0.63    111144\n",
      "   macro avg       0.50      0.47      0.39    111144\n",
      "weighted avg       0.99      0.63      0.77    111144\n",
      "\n"
     ]
    }
   ],
   "source": [
    "# Display classification report\n",
    "report = classification_report(y_test, y_pred)\n",
    "print(report)"
   ]
  },
  {
   "cell_type": "code",
   "execution_count": 114,
   "id": "bc2333e8-0b18-45ae-830a-288d013d72ed",
   "metadata": {},
   "outputs": [],
   "source": [
    "import matplotlib.pyplot as plt"
   ]
  },
  {
   "cell_type": "code",
   "execution_count": 115,
   "id": "d5857683-4459-4628-949c-c6bfe83af9c1",
   "metadata": {},
   "outputs": [
    {
     "data": {
      "image/png": "[encoded data removed]",
      "text/plain": [
       "<Figure size 640x480 with 1 Axes>"
      ]
     },
     "metadata": {},
     "output_type": "display_data"
    }
   ],
   "source": [
    "# Plot training & validation accuracy values\n",
    "plt.plot(history.history['accuracy'])\n",
    "plt.plot(history.history['val_accuracy'])\n",
    "plt.title('Model accuracy')\n",
    "plt.xlabel('Epoch')\n",
    "plt.ylabel('Accuracy')\n",
    "plt.legend(['Train', 'Validation'], loc='upper left')\n",
    "plt.show()"
   ]
  },
  {
   "cell_type": "code",
   "execution_count": 116,
   "id": "9da90cbb-dbc2-4260-b1d0-5df1d040c8b9",
   "metadata": {},
   "outputs": [
    {
     "data": {
      "image/png": "[encoded data removed]",
      "text/plain": [
       "<Figure size 640x480 with 1 Axes>"
      ]
     },
     "metadata": {},
     "output_type": "display_data"
    }
   ],
   "source": [
    "# Plot training & validation loss values\n",
    "plt.plot(history.history['loss'])\n",
    "plt.plot(history.history['val_loss'])\n",
    "plt.title('Model loss')\n",
    "plt.xlabel('Epoch')\n",
    "plt.ylabel('Loss')\n",
    "plt.legend(['Train', 'Validation'], loc='upper left')\n",
    "plt.show()"
   ]
  },
  {
   "cell_type": "code",
   "execution_count": null,
   "id": "1f8f3333-a310-458b-bb4f-e498b9762c90",
   "metadata": {},
   "outputs": [],
   "source": []
  }
 ],
 "metadata": {
  "kernelspec": {
   "display_name": "Python 3 (ipykernel)",
   "language": "python",
   "name": "python3"
  },
  "language_info": {
   "codemirror_mode": {
    "name": "ipython",
    "version": 3
   },
   "file_extension": ".py",
   "mimetype": "text/x-python",
   "name": "python",
   "nbconvert_exporter": "python",
   "pygments_lexer": "ipython3",
   "version": "3.9.18"
  }
 },
 "nbformat": 4,
 "nbformat_minor": 5
}
